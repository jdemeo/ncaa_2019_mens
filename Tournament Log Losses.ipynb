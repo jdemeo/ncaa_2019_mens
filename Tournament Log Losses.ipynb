{
 "cells": [
  {
   "cell_type": "code",
   "execution_count": 2,
   "metadata": {},
   "outputs": [],
   "source": [
    "import numpy as np\n",
    "import math"
   ]
  },
  {
   "cell_type": "markdown",
   "metadata": {},
   "source": [
    "Probabilities used correspond to that of the winner"
   ]
  },
  {
   "cell_type": "markdown",
   "metadata": {},
   "source": [
    "### Men's Games\n"
   ]
  },
  {
   "cell_type": "code",
   "execution_count": 50,
   "metadata": {},
   "outputs": [
    {
     "name": "stdout",
     "output_type": "stream",
     "text": [
      "-0.626310547243889\n",
      "-0.5999858960348823\n"
     ]
    }
   ],
   "source": [
    "print(np.average(np.log([1-0.6714, 0.7802, 0.6118, 0.5206])))\n",
    "print(np.average(np.log([1-0.7236095046, 0.8399329226, 0.6987249854, 0.5592986389])))"
   ]
  },
  {
   "cell_type": "code",
   "execution_count": 75,
   "metadata": {},
   "outputs": [
    {
     "data": {
      "text/plain": [
       "0.44144760588097204"
      ]
     },
     "execution_count": 75,
     "metadata": {},
     "output_type": "execute_result"
    }
   ],
   "source": [
    "# Logistic Regression\n",
    "probabilities = [\n",
    "    # First Round\n",
    "    1 - 0.6158,\n",
    "    0.8990,\n",
    "    0.8381,\n",
    "    0.9272,\n",
    "    0.9999,\n",
    "    0.7626,\n",
    "    0.9321,\n",
    "    1 - 0.7251,\n",
    "    1 - 0.6034,\n",
    "    0.9999,\n",
    "    0.6331,\n",
    "    0.9999,\n",
    "    0.9999,\n",
    "    0.7923,\n",
    "    0.9681,\n",
    "    1 - 0.5992,\n",
    "    1 - 0.5233,\n",
    "    1 - 0.387,\n",
    "    0.9739,\n",
    "    1 - 0.8648,\n",
    "    0.9999,\n",
    "    0.9999,\n",
    "    0.8072,\n",
    "    1 - 0.8433,\n",
    "    1 - 0.5162,\n",
    "    0.9999,\n",
    "    0.9176,\n",
    "    1 - 0.85,\n",
    "    0.9999,\n",
    "    0.4858536897,\n",
    "    1 - 0.6934,\n",
    "    0.94,\n",
    "    # Second Round\n",
    "    0.5879469138,\n",
    "    0.7574258772,\n",
    "    0.885231323,\n",
    "    0.8704149368,\n",
    "    0.9527134161,\n",
    "    0.9172660063,\n",
    "    0.7603879372,\n",
    "    0.4717276674,\n",
    "    0.8548546161,\n",
    "    0.9257541377,\n",
    "    0.9554503139,\n",
    "    0.7181623333,\n",
    "    0.9212934841,\n",
    "    0.9590541075,\n",
    "    0.7839143329,\n",
    "    0.6003815755,\n",
    "    # Sweet 16\n",
    "    0.7948319494,\n",
    "    1 - 0.5822312558,\n",
    "    1 - 0.6035693839,\n",
    "    0.978007123,\n",
    "    0.8293623917,\n",
    "    1 - 0.7581504872,\n",
    "    0.8163761568,\n",
    "    0.7156390991,\n",
    "    # Elite 8\n",
    "    1 - 0.7236095046,\n",
    "    0.8399329226,\n",
    "    1 - 0.6987249854,\n",
    "    1 - 0.5592986389,\n",
    "    # Final 4\n",
    "    0.889355743,\n",
    "    0.7042440281,\n",
    "#     # Michigan State vs Virginia\n",
    "#     1 - 0.31923300688393624\n",
    "]\n",
    "\n",
    "# Log Loss\n",
    "-1 * np.average(np.log(probabilities))"
   ]
  },
  {
   "cell_type": "code",
   "execution_count": 94,
   "metadata": {},
   "outputs": [
    {
     "name": "stdout",
     "output_type": "stream",
     "text": [
      "-0.11725796265634159\n",
      "-0.3506303520628158\n"
     ]
    }
   ],
   "source": [
    "print(np.log(0.889355743))\n",
    "print(np.log(0.7042440281))"
   ]
  },
  {
   "cell_type": "code",
   "execution_count": null,
   "metadata": {},
   "outputs": [],
   "source": []
  },
  {
   "cell_type": "code",
   "execution_count": 68,
   "metadata": {},
   "outputs": [
    {
     "data": {
      "text/plain": [
       "0.4646156035656032"
      ]
     },
     "execution_count": 68,
     "metadata": {},
     "output_type": "execute_result"
    }
   ],
   "source": [
    "# Expert Picks\n",
    "expert_median_prob = [\n",
    "    # First Round\n",
    "    1 - 0.6586,\n",
    "    0.7998,\n",
    "    0.734,\n",
    "    0.8188,\n",
    "    0.9634,\n",
    "    0.6525,\n",
    "    0.7953,\n",
    "    1 - 0.6407,\n",
    "    1 - 0.5476,\n",
    "    0.9605,\n",
    "    0.618,\n",
    "    0.9874,\n",
    "    0.9363,\n",
    "    0.6106,\n",
    "    0.8831,\n",
    "    1 - 0.5368,\n",
    "    1 - 0.6083,\n",
    "    1 - 0.5159,\n",
    "    0.8961,\n",
    "    1 - 0.7596,\n",
    "    0.9458,\n",
    "    0.9803,\n",
    "    0.7056,\n",
    "    1 - 0.627,\n",
    "    1 - 0.5522,\n",
    "    0.9999,\n",
    "    0.8762,\n",
    "    1 - 0.7565,\n",
    "    0.9817,\n",
    "    0.5178,\n",
    "    1 - 0.6843,\n",
    "    0.8532,\n",
    "    # Second Round\n",
    "    0.5442,\n",
    "    0.731,\n",
    "    0.7574,\n",
    "    0.7653,\n",
    "    0.8587,\n",
    "    0.8361,\n",
    "    0.6096,\n",
    "    0.5272,\n",
    "    0.7753,\n",
    "    0.844,\n",
    "    0.891,\n",
    "    0.6454,\n",
    "    0.8132,\n",
    "    0.8539,\n",
    "    0.7087,\n",
    "    0.6653,\n",
    "    # Sweet 16\n",
    "    0.6981,\n",
    "    1 - 0.5315,\n",
    "    1 - 0.5709,\n",
    "    0.8673,\n",
    "    0.7174,\n",
    "    1 - 0.6734,\n",
    "    0.7479,\n",
    "    0.6253,\n",
    "    # Elite 8\n",
    "    1 - 0.6568,\n",
    "    0.6862,\n",
    "    1 - 0.6109,\n",
    "    1 - 0.5904,\n",
    "]\n",
    "\n",
    "\n",
    "# Log Loss\n",
    "-1 * np.average(np.log(expert_median_prob))"
   ]
  },
  {
   "cell_type": "code",
   "execution_count": 71,
   "metadata": {},
   "outputs": [
    {
     "data": {
      "text/plain": [
       "0.4702804400782025"
      ]
     },
     "execution_count": 71,
     "metadata": {},
     "output_type": "execute_result"
    }
   ],
   "source": [
    "# Vegas Picks\n",
    "vegas_prob = [\n",
    "    # First Round\n",
    "    1 - 0.672599,\n",
    "    0.753978,\n",
    "    0.706812,\n",
    "    0.842893,\n",
    "    0.9999,\n",
    "    0.617742,\n",
    "    0.753978,\n",
    "    1 - 0.672599,\n",
    "    1 - 0.57932,\n",
    "    0.9999,\n",
    "    0.706812,\n",
    "    0.9999,\n",
    "    0.922718,\n",
    "    0.598683,\n",
    "    0.888933,\n",
    "    1 - 0.55971,\n",
    "    1 - 0.654746,\n",
    "    1 - 0.539913,\n",
    "    0.888933,\n",
    "    1 - 0.672599,\n",
    "    0.9999,\n",
    "    0.9999,\n",
    "    0.672599,\n",
    "    1 - 0.57932,\n",
    "    1 - 0.617742,\n",
    "    0.9999,\n",
    "    0.872127,\n",
    "    1 - 0.738839,\n",
    "    0.9999,\n",
    "    0.539913,\n",
    "    1 - 0.706812,\n",
    "    0.842893,\n",
    "    # Second Round\n",
    "    0.57932,\n",
    "    0.689965,\n",
    "    0.738839,\n",
    "    0.672599,\n",
    "    0.903774,\n",
    "    0.832006,\n",
    "    0.636446,\n",
    "    0.57932,\n",
    "    0.782438,\n",
    "    0.862937,\n",
    "    0.888933,\n",
    "    0.636446,\n",
    "    0.795748,\n",
    "    0.853198,\n",
    "    0.706812,\n",
    "    0.672599,\n",
    "    # Sweet 16\n",
    "    0.753978,\n",
    "    1 - 0.539913,\n",
    "    1 - 0.57932,\n",
    "    0.795748,\n",
    "    0.706812,\n",
    "    1 - 0.689965,\n",
    "    0.768513,\n",
    "    0.598683,\n",
    "    # Elite 8\n",
    "    1 - 0.654746,\n",
    "    0.672599,\n",
    "    1 - 0.672599,\n",
    "    1 - 0.57932,\n",
    "]\n",
    "\n",
    "# Log Loss\n",
    "-1 * np.average(np.log(vegas_prob))"
   ]
  },
  {
   "cell_type": "markdown",
   "metadata": {},
   "source": [
    "### Women's Games\n",
    "- Round 1.1\n",
    "    - Louisville_RobMorris: 3257_3352: 0.9999\n",
    "    - **SCarolina_Belmont: 3376_3125: 1 - 0.808443**\n",
    "    - Iowa_Mercer: 3234_3273: 0.99999\n",
    "    - Marquette_Rice: 3266_3349: 0.617742\n",
    "    - Michigan_KansasState: 3276_3243: 1 - 0.261161\n",
    "    - **FloridaState_Bucknell: 3199_3137: 1 - 0.738839**\n",
    "    - Buffalo_Rugers: 3138_3353: 0.820527\n",
    "    - **Missouri_Drake: 3281_3179: 1 - 0.706812**\n",
    "    - TexasA&M_WrightState: 3401_3460: 0.50\n",
    "    - **Clemson_SDakota: 3155_3377: 0.111067**\n",
    "    - ASU_UCF: 3113_3416: 0.820527\n",
    "    - **Indiana_Texas: 3231_3400: 0.42068**\n",
    "    - UConn_Towson: 3163_3406: 0.91051\n",
    "    - **Miami_FGCU: 3274_3195: 1 - 0.654746**\n",
    "    - MissState_Southern: 3280_3380: 0.9999\n",
    "    - Oregon_PortlandSt: 3332_3340: 0.9999"
   ]
  },
  {
   "cell_type": "code",
   "execution_count": 15,
   "metadata": {},
   "outputs": [
    {
     "data": {
      "text/plain": [
       "0.7149184238210063"
      ]
     },
     "execution_count": 15,
     "metadata": {},
     "output_type": "execute_result"
    }
   ],
   "source": [
    "probabilities = [\n",
    "    # First Round\n",
    "    0.9999, 1 - 0.808443, 0.99999, 0.617742,  \n",
    "    1 - 0.261161, 1 - 0.738839, 0.820527, 1 - 0.706812, \n",
    "    0.50, 0.111067, 0.820527, 0.42068, \n",
    "    0.91051, 1 - 0.654746, 0.9999, 0.9999, \n",
    "    0.167994, 1 - 0.157107, 0.636446, 1 - 0.0001,\n",
    "    1 - 0.795748, 0.5, 1 - 0.26116100000000003, 1 - 0.842893]\n",
    "\n",
    "# Log Loss\n",
    "-1 * np.average(np.log(probabilities))"
   ]
  },
  {
   "cell_type": "code",
   "execution_count": 9,
   "metadata": {},
   "outputs": [
    {
     "data": {
      "text/plain": [
       "-0.6931471805599453"
      ]
     },
     "execution_count": 9,
     "metadata": {},
     "output_type": "execute_result"
    }
   ],
   "source": [
    "# The worst it could get\n",
    "np.log(0.5)"
   ]
  },
  {
   "cell_type": "code",
   "execution_count": null,
   "metadata": {},
   "outputs": [],
   "source": []
  }
 ],
 "metadata": {
  "kernelspec": {
   "display_name": "ML",
   "language": "python",
   "name": "ml"
  },
  "language_info": {
   "codemirror_mode": {
    "name": "ipython",
    "version": 3
   },
   "file_extension": ".py",
   "mimetype": "text/x-python",
   "name": "python",
   "nbconvert_exporter": "python",
   "pygments_lexer": "ipython3",
   "version": "3.7.1"
  }
 },
 "nbformat": 4,
 "nbformat_minor": 2
}
