{
 "cells": [
  {
   "cell_type": "markdown",
   "metadata": {},
   "source": [
    "Data taken from: https://www.cbssports.com/collegebasketball/ncaa-tournament/history/yearbyyear"
   ]
  },
  {
   "cell_type": "code",
   "execution_count": 67,
   "metadata": {},
   "outputs": [],
   "source": [
    "from bs4 import BeautifulSoup\n",
    "import requests\n",
    "import pandas as pd\n",
    "import numpy as np\n",
    "import re"
   ]
  },
  {
   "cell_type": "code",
   "execution_count": 68,
   "metadata": {},
   "outputs": [
    {
     "name": "stdout",
     "output_type": "stream",
     "text": [
      "2002\n",
      "2003\n",
      "2004\n",
      "2005\n",
      "2006\n",
      "2007\n",
      "2008\n",
      "2009\n",
      "2010\n",
      "2011\n",
      "2012\n"
     ]
    },
    {
     "data": {
      "text/html": [
       "<div>\n",
       "<style scoped>\n",
       "    .dataframe tbody tr th:only-of-type {\n",
       "        vertical-align: middle;\n",
       "    }\n",
       "\n",
       "    .dataframe tbody tr th {\n",
       "        vertical-align: top;\n",
       "    }\n",
       "\n",
       "    .dataframe thead th {\n",
       "        text-align: right;\n",
       "    }\n",
       "</style>\n",
       "<table border=\"1\" class=\"dataframe\">\n",
       "  <thead>\n",
       "    <tr style=\"text-align: right;\">\n",
       "      <th></th>\n",
       "      <th>Team1</th>\n",
       "      <th>Team1_Score</th>\n",
       "      <th>Team2</th>\n",
       "      <th>Team2_Score</th>\n",
       "      <th>Winner</th>\n",
       "      <th>Year</th>\n",
       "    </tr>\n",
       "  </thead>\n",
       "  <tbody>\n",
       "    <tr>\n",
       "      <th>0</th>\n",
       "      <td>Siena</td>\n",
       "      <td>81</td>\n",
       "      <td>Alcorn St.</td>\n",
       "      <td>77</td>\n",
       "      <td>Team1</td>\n",
       "      <td>2002</td>\n",
       "    </tr>\n",
       "    <tr>\n",
       "      <th>1</th>\n",
       "      <td>Duke</td>\n",
       "      <td>84</td>\n",
       "      <td>Winthrop</td>\n",
       "      <td>37</td>\n",
       "      <td>Team1</td>\n",
       "      <td>2002</td>\n",
       "    </tr>\n",
       "    <tr>\n",
       "      <th>2</th>\n",
       "      <td>Notre Dame</td>\n",
       "      <td>82</td>\n",
       "      <td>Charlotte</td>\n",
       "      <td>63</td>\n",
       "      <td>Team1</td>\n",
       "      <td>2002</td>\n",
       "    </tr>\n",
       "    <tr>\n",
       "      <th>3</th>\n",
       "      <td>Indiana</td>\n",
       "      <td>75</td>\n",
       "      <td>Utah</td>\n",
       "      <td>56</td>\n",
       "      <td>Team1</td>\n",
       "      <td>2002</td>\n",
       "    </tr>\n",
       "    <tr>\n",
       "      <th>4</th>\n",
       "      <td>UNC Wilmington</td>\n",
       "      <td>93</td>\n",
       "      <td>Southern California</td>\n",
       "      <td>89</td>\n",
       "      <td>Team1</td>\n",
       "      <td>2002</td>\n",
       "    </tr>\n",
       "  </tbody>\n",
       "</table>\n",
       "</div>"
      ],
      "text/plain": [
       "            Team1 Team1_Score                Team2 Team2_Score Winner  Year\n",
       "0           Siena          81           Alcorn St.          77  Team1  2002\n",
       "1            Duke          84             Winthrop          37  Team1  2002\n",
       "2      Notre Dame          82            Charlotte          63  Team1  2002\n",
       "3         Indiana          75                 Utah          56  Team1  2002\n",
       "4  UNC Wilmington          93  Southern California          89  Team1  2002"
      ]
     },
     "execution_count": 68,
     "metadata": {},
     "output_type": "execute_result"
    }
   ],
   "source": [
    "master_df = pd.DataFrame(columns=['Team1', 'Team1_Score', 'Team2', 'Team2_Score', 'Winner', 'Year'])\n",
    "\n",
    "# Iterate through files and cleanup\n",
    "for i in range(2002, 2013):\n",
    "    print(i)\n",
    "    \n",
    "    # Read in file\n",
    "    year = str(i)\n",
    "    fix_up = pd.read_csv('unclean_tournament_results/' + year + '_results.csv')\n",
    "\n",
    "    # Remove seeding numbers\n",
    "    fix_up['Team1'] = fix_up['Team1'].str.replace(r'No. \\d+ ', '')\n",
    "    fix_up['Team2'] = fix_up['Team2'].str.replace(r'No. \\d+ ', '')\n",
    "\n",
    "    # Isolate Scores\n",
    "    fix_up['Team1_Score'] = fix_up['Team1'].str.extract(r'(\\d+)')\n",
    "    fix_up['Team2_Score'] = fix_up['Team2'].str.extract(r'(\\d+)')\n",
    "\n",
    "    # Isolate Team Names\n",
    "    fix_up['Team1'] = fix_up['Team1'].str.extract(r'(\\D+)')\n",
    "    fix_up['Team2'] = fix_up['Team2'].str.extract(r'(\\D+)')\n",
    "\n",
    "    # Determine winner\n",
    "    fix_up['Winner'] = ['Team1' if int(x) > int(y) else 'Team2'\\\n",
    "                        for x, y in zip(fix_up['Team1_Score'], fix_up['Team2_Score'])]\n",
    "\n",
    "    # Cleanup Strings\n",
    "    fix_up['Team1'] = fix_up['Team1'].str.strip()\n",
    "    fix_up['Team2'] = fix_up['Team2'].str.strip()\n",
    "\n",
    "    # Create Year Column\n",
    "    fix_up['Year'] = year\n",
    "\n",
    "    # Reorder Columns\n",
    "    fix_up = fix_up[['Team1', 'Team1_Score', 'Team2', 'Team2_Score', 'Winner', 'Year']]\n",
    "\n",
    "    master_df = pd.concat([master_df, fix_up], ignore_index=True)\n",
    "    \n",
    "master_df.to_csv('tournament_results/2002_2012.csv', index=False)\n",
    "master_df.head()"
   ]
  },
  {
   "cell_type": "code",
   "execution_count": 66,
   "metadata": {},
   "outputs": [],
   "source": [
    "# master_df[master_df['Team1' == 'No'],]\n",
    "# master_df[master_df['Team2' == 'No'],]"
   ]
  },
  {
   "cell_type": "code",
   "execution_count": null,
   "metadata": {},
   "outputs": [],
   "source": []
  }
 ],
 "metadata": {
  "kernelspec": {
   "display_name": "ML",
   "language": "python",
   "name": "ml"
  },
  "language_info": {
   "codemirror_mode": {
    "name": "ipython",
    "version": 3
   },
   "file_extension": ".py",
   "mimetype": "text/x-python",
   "name": "python",
   "nbconvert_exporter": "python",
   "pygments_lexer": "ipython3",
   "version": "3.7.1"
  }
 },
 "nbformat": 4,
 "nbformat_minor": 1
}
